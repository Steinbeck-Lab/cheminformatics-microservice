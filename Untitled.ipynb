{
 "cells": [
  {
   "cell_type": "code",
   "execution_count": 1,
   "id": "78dddb78",
   "metadata": {},
   "outputs": [],
   "source": [
    "from __future__ import annotations\n",
    "\n",
    "from typing import List\n",
    "from typing import Tuple\n",
    "from typing import Union\n",
    "\n",
    "from hosegen import HoseGenerator\n",
    "from rdkit import Chem\n",
    "from rdkit import DataStructs\n",
    "from rdkit.Chem import AllChem\n",
    "from rdkit.Chem import Descriptors\n",
    "from rdkit.Chem import Lipinski\n",
    "from rdkit.Chem import MACCSkeys\n",
    "from rdkit.Chem import QED\n",
    "from rdkit.Chem import rdFingerprintGenerator\n",
    "from rdkit.Chem import rdMolDescriptors\n",
    "from rdkit.Chem import rdmolops\n",
    "from rdkit.Chem.FilterCatalog import FilterCatalog\n",
    "from rdkit.Chem.FilterCatalog import FilterCatalogParams\n",
    "from rdkit.Contrib.IFG import ifg\n",
    "from rdkit.Contrib.SA_Score import sascorer"
   ]
  },
  {
   "cell_type": "code",
   "execution_count": 31,
   "id": "04c75898",
   "metadata": {},
   "outputs": [],
   "source": [
    "def is_valid_molecule(input_text) -> Union[str, bool]:\n",
    "    \"\"\"Check whether the input text represents a valid molecule in SMILES or.\n",
    "\n",
    "    Molblock format.\n",
    "\n",
    "    Args:\n",
    "        input_text (str): SMILES string or Molblock.\n",
    "\n",
    "    Returns:\n",
    "        str: \"smiles\" if the input is a valid SMILES, \"mol\" if the input is a valid Molblock, otherwise False.\n",
    "    \"\"\"\n",
    "    try:\n",
    "        molecule = Chem.MolFromSmiles(input_text)\n",
    "        if molecule:\n",
    "            return \"smiles\"\n",
    "        else:\n",
    "            molecule = Chem.MolFromMolBlock(input_text)\n",
    "            if molecule:\n",
    "                print(\"yo\")\n",
    "                return \"mol\"\n",
    "            else:\n",
    "                print(\"bi\")\n",
    "                return False\n",
    "    except Exception:\n",
    "        print(\"no\")\n",
    "        return False"
   ]
  },
  {
   "cell_type": "code",
   "execution_count": 32,
   "id": "48b2a3fc",
   "metadata": {},
   "outputs": [
    {
     "name": "stdout",
     "output_type": "stream",
     "text": [
      "here\n"
     ]
    }
   ],
   "source": [
    "smiles = \"C1=CC=CC=C1\"\n",
    "result = is_valid_molecule(smiles)"
   ]
  },
  {
   "cell_type": "code",
   "execution_count": 30,
   "id": "93c4b6e6",
   "metadata": {},
   "outputs": [
    {
     "data": {
      "text/plain": [
       "'\\n     RDKit          3D\\n\\n 13 14  0  0  0  0  0  0  0  0999 V2000\\n    1.2690    0.7192   -0.4711 C   0  0  0  0  0  0  0  0  0  0  0  0\\n    1.6615    0.2733    0.7862 C   0  0  0  0  0  0  0  0  0  0  0  0\\n    1.0181   -0.9231    1.0646 N   0  0  0  0  0  0  0  0  0  0  0  0\\n    0.2436   -1.2067   -0.0041 C   0  0  0  0  0  0  0  0  0  0  0  0\\n    0.3708   -0.2378   -0.9480 C   0  0  0  0  0  0  0  0  0  0  0  0\\n   -0.4801   -0.6074   -2.0517 C   0  0  0  0  0  0  0  0  0  0  0  0\\n   -0.6350    0.0148   -3.0893 O   0  0  0  0  0  0  0  0  0  0  0  0\\n   -1.0852   -1.8254   -1.6773 N   0  0  0  0  0  0  0  0  0  0  0  0\\n   -0.6652   -2.1708   -0.4920 C   0  0  0  0  0  0  0  0  0  0  0  0\\n    1.6007    1.6240   -0.9640 H   0  0  0  0  0  0  0  0  0  0  0  0\\n    2.3436    0.7033    1.5086 H   0  0  0  0  0  0  0  0  0  0  0  0\\n    1.1224   -1.4661    1.9137 H   0  0  0  0  0  0  0  0  0  0  0  0\\n   -0.9795   -3.0805    0.0387 H   0  0  0  0  0  0  0  0  0  0  0  0\\n  1  2  2  0\\n  2  3  1  0\\n  3  4  1  0\\n  4  5  2  0\\n  5  6  1  0\\n  6  7  2  0\\n  6  8  1  0\\n  8  9  2  0\\n  5  1  1  0\\n  9  4  1  0\\n  1 10  1  0\\n  2 11  1  0\\n  3 12  1  0\\n  9 13  1  0\\nM  END\\n'"
      ]
     },
     "execution_count": 30,
     "metadata": {},
     "output_type": "execute_result"
    }
   ],
   "source": [
    "get_3d_conformers(mol)"
   ]
  },
  {
   "cell_type": "code",
   "execution_count": null,
   "id": "cfa7cd78",
   "metadata": {},
   "outputs": [],
   "source": []
  }
 ],
 "metadata": {
  "kernelspec": {
   "display_name": "Python 3 (ipykernel)",
   "language": "python",
   "name": "python3"
  },
  "language_info": {
   "codemirror_mode": {
    "name": "ipython",
    "version": 3
   },
   "file_extension": ".py",
   "mimetype": "text/x-python",
   "name": "python",
   "nbconvert_exporter": "python",
   "pygments_lexer": "ipython3",
   "version": "3.9.13"
  }
 },
 "nbformat": 4,
 "nbformat_minor": 5
}
